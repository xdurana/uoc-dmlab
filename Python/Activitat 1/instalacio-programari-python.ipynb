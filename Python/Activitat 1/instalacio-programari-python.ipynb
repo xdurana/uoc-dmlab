{
 "cells": [
  {
   "cell_type": "markdown",
   "metadata": {},
   "source": [
    "<!--Header-->\n",
    "<div>\n",
    "    <div class=\"row\" style=\"color: #4D4D4D;font-size: 15px;padding-bottom: 20px\">\n",
    "        <div class=\"col-md-7\">\n",
    "            <img src=\"https://cv.uoc.edu/mc-icons/inici/logoUOC.png\" alt=\"Logo UOC\" class=\"img-responsive\" style=\"margin:20px 0px 0px\">\n",
    "        </div>\n",
    "        <div class=\"col-md-5\">\n",
    "            <h1 style=\"margin:15px 0px 0px;font-size: 40px;\">Instal·lació del programari de mineria de dades en Python</h1>\n",
    "            <div style=\"text-align:left;margin-top: 5px;\"></div>\n",
    "        </div>\n",
    "    </div>\n",
    "    <div class=\"row\" style=\"background: #FCB517;padding: 10px 20px;\">\n",
    "        <div class=\"col-md-6\">\n",
    "            <div>PID_00233252</div>\n",
    "        </div>\n",
    "        <div class=\"col-md-6\">\n",
    "            <div style=\"text-align:right;\">Autor: Xavier Duran Albareda <span style=\"margin-left: 30px;\">Coordinació: Julià Minguillón</span></div>\n",
    "        </div>\n",
    "    </div>\n",
    "</div>\n",
    "<!--/Header-->"
   ]
  },
  {
   "cell_type": "markdown",
   "metadata": {},
   "source": [
    "<a id=\"jupyter-notebooks\"></a>\n",
    "\n",
    "## 1. Jupyter Notebooks\n",
    "\n",
    "![](images/jupyter.svg)\n",
    "\n",
    "Els notebooks són documents que contenen codi, per exemple `Python`, i text enriquit (paràgrafs, equacions, figures, etcètera). D'aquesta manera podem executar i veure els nostres anàlisis alhora que els anem documentant. Els notebooks, com aquest que esteu llegint, es visualitzen via web i és necessari instal·lar la `Jupyter Notebook App` per fer-los funcionar."
   ]
  },
  {
   "cell_type": "markdown",
   "metadata": {},
   "source": [
    "<a id=\"jupyter-notebooks-exemple\"></a>\n",
    "\n",
    "### 1.1 Exemple\n",
    "\n",
    "A continuació podem veure un petit exemple de codi en `Python` que es pot executar dins el propi notebook. En concret, llegeix el dataset [Iris](https://en.wikipedia.org/wiki/Iris_flower_data_set), molt utilitzat com a exemple en mineria de dades, i genera una gràfica que relaciona les dues primeres variables als eixos (x, y) i assigna un color a la categoria a la que pertany."
   ]
  },
  {
   "cell_type": "code",
   "execution_count": 1,
   "metadata": {
    "scrolled": false
   },
   "outputs": [
    {
     "data": {
      "text/plain": [
       "<matplotlib.collections.PathCollection at 0x7fbfe4c8ba90>"
      ]
     },
     "execution_count": 1,
     "metadata": {},
     "output_type": "execute_result"
    },
    {
     "data": {
      "image/png": "[encoded data removed]",
      "text/plain": [
       "<matplotlib.figure.Figure at 0x7fc017b0cb70>"
      ]
     },
     "metadata": {},
     "output_type": "display_data"
    }
   ],
   "source": [
    "%matplotlib inline\n",
    "\n",
    "from sklearn.datasets import load_iris\n",
    "from matplotlib import pyplot as plt\n",
    "\n",
    "iris = load_iris()\n",
    "plt.scatter(iris.data[:,1] ,iris.data[:,2], c=iris.target, alpha=0.8)"
   ]
  },
  {
   "cell_type": "markdown",
   "metadata": {},
   "source": [
    "## 2. Distribució Anaconda\n",
    "\n",
    "La manera més senzilla d'instal·lar tot el que necessitarem és fer servir la distribució [Anaconda](https://www.anaconda.com/distribution/).\n",
    "\n",
    "Com podeu veure en el següent esquema, `Anaconda` és una distribució de codi obert que agrupa els paquets més importants de mineria de dades en `Python`. Inclou el gestor de paquets `conda` i un conjunt de llibreries de _data science_, juntament amb els `Python Notebooks`.\n",
    "\n",
    "En les properes activitats, farem servir principalment les llibreries [pandas](https://pandas.pydata.org/) i [numpy](http://www.numpy.org/) per fer mineria de dades, i [matplotlib](https://matplotlib.org/) per la visualització."
   ]
  },
  {
   "cell_type": "markdown",
   "metadata": {},
   "source": [
    "![Anaconda Distribution](images/anaconda-distribution-diagram.png)"
   ]
  },
  {
   "cell_type": "markdown",
   "metadata": {},
   "source": [
    "### 2.1 Instal·lació de la distribució\n",
    "\n",
    "Escolliu el vostre sistema operatiu i seguiu les instruccions per instal·lar la distribuió `Anaconda`."
   ]
  },
  {
   "cell_type": "markdown",
   "metadata": {},
   "source": [
    "#### 2.1.1 Instal·lació en Linux\n",
    "\n",
    "1. Aneu a [https://www.anaconda.com/download/#linux](https://www.anaconda.com/download/#linux) i baixeu-vos la versió 3.6 de la distribució Anaconda.\n",
    "\n",
    "2. Aneu al terminal i executeu la comanda `bash ~/Downloads/Anaconda3-5.0.1-Linux-x86_64.sh`. Si el fitxer s'anomena d'una altra manera, adepteu la comanda a la vostra situació.\n",
    "\n",
    "3. L'instal·lador us demanarà permís per mostrar la llicència: _\"In order to continue the installation process, please review the license agreement. Click Enter to view license terms\"_. Premeu `Enter`\n",
    "\n",
    "4. Llegiu la llicència, o feu scroll fins al final, i escriviu `Yes` per acceptar-la.\n",
    "5. L'instal·lador us demana el directori on el voleu instal·lar. Si accepteu, el directori per defecte serà a `/home/<user>/anaconda3`\n",
    "6. Ara us demana si voleu afegir el path d'Anaconda al `.bashrc`. Digueu-li que sí.\n",
    "7. Executeu la comanda `source ~/.bashrc` per finalitzar la instal·lació.\n",
    "8. També al terminal, executeu la comanda `anaconda-navigator`. Se us obrirà un navegador amb l'aplicació Anaconda."
   ]
  },
  {
   "cell_type": "markdown",
   "metadata": {},
   "source": [
    "#### 2.1.2 Instal·lació en Windows\n",
    "\n",
    "1. Aneu a https://www.anaconda.com/download/#windows i baixeu-vos la versió 3.6 de la distribució `Anaconda`.\n",
    "2. Feu doble-clic a l'instal·lador.\n",
    "3. Cliqueu `Següent`.\n",
    "4. Accepteu la llicència.\n",
    "5. Seleccioneu `Només jo` i cliqueu `Següent`.\n",
    "6. Seleccioneu la carpeta d'instal·lació i cliqueu `Següent`.\n",
    "7. A continuació us sortirà un diàleg amb l'opció d'afegir Anaconda com a variable d'entorn al `PATH`. No seleccioneu aquesta opció. Seleccioneu l'opció de fer servir Anaconda com la versió per defecte de Python 3.6. Cliqueu `Següent`.\n",
    "8. Cliqueu el botó `Instal·lar` i espereu fins que s'acabi la instal·lació.\n",
    "9. Podeu obrir l'aplicació des del menú d'inici de Windows."
   ]
  },
  {
   "cell_type": "markdown",
   "metadata": {},
   "source": [
    "#### 2.1.3 Instal·lació en macOS\n",
    "\n",
    "1. Aneu a https://www.anaconda.com/download/#macos i baixeu-vos la versió 3.6 de la distribució `Anaconda`.\n",
    "2. Feu doble-clic a l'instal·lador.\n",
    "3. Passeu les pantalles de la Introducció, el Llegiu-me i la Llicència.\n",
    "4. Seleccioneu `Instal·lar només per a mi` i cliqueu `Continuar`.\n",
    "5. Cliqueu el botó `Instal·lar` i espereu fins que s'acabi la instal·lació.\n",
    "9. Podeu obrir l'aplicació des del `Launchpad`."
   ]
  },
  {
   "cell_type": "markdown",
   "metadata": {},
   "source": [
    "### 2.2 Anaconda Navigator\n",
    "\n",
    "L'`Anaconda Navigator` és una interfície gràfica d'usuari (GUI) que permet executar les aplicacions incloses a la distribució i instal·lar paquets sense haver de fer servir la línia de comandes.\n",
    "\n",
    "![Anaconda Navigator](images/navigator-home-1-6.png)"
   ]
  },
  {
   "cell_type": "markdown",
   "metadata": {},
   "source": [
    "### 2.3 El nostre primer notebook\n",
    "\n",
    "Nosaltres farem servir bàsicament els `Jupyter Notebooks`, com hem comentat abans. Si obrim l'aplicació dels `Jupyter Notebooks` ens apareixerà el `Jupyter dashboard`. Per crear un nou notebook, cliquem el botó `New` i seleccionem `Python 3`.\n",
    "\n",
    "![New Jupyter notebook](images/jupyter-notebook-list-empty-kernels.png)"
   ]
  },
  {
   "cell_type": "markdown",
   "metadata": {},
   "source": [
    "Un cop creat, ja podem començar a editar el nostre primer notebook. Al menú d'ajuda, podeu consultar el `User Interface Tour` per familiaritzar-vos amb l'entorn.\n",
    "\n",
    "![Notebook tour](images/notebook-tour.gif)"
   ]
  },
  {
   "cell_type": "markdown",
   "metadata": {},
   "source": [
    "<!--Footer-->\n",
    " <div style=\"background: #333333;padding: 35px 0px;margin-top: 25px;\">\n",
    "    <div class=\"row\">\n",
    "     <div class=\"col-sm-12\">\n",
    "        <img src=\"http://materials.cv.uoc.edu/cdocent/common/img/logo-uoc-bottom.png\" alt=\"Logo UOC\" class=\"img-responsive\" style=\"margin: 0 auto; display: block;\">\n",
    "    </div>\n",
    "</div>\n",
    "</div>\n",
    "<!--/Footer-->"
   ]
  }
 ],
 "metadata": {
  "kernelspec": {
   "display_name": "Python 3",
   "language": "python",
   "name": "python3"
  },
  "language_info": {
   "codemirror_mode": {
    "name": "ipython",
    "version": 3
   },
   "file_extension": ".py",
   "mimetype": "text/x-python",
   "name": "python",
   "nbconvert_exporter": "python",
   "pygments_lexer": "ipython3",
   "version": "3.6.4"
  }
 },
 "nbformat": 4,
 "nbformat_minor": 1
}
