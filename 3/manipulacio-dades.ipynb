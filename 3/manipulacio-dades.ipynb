{
 "cells": [
  {
   "cell_type": "markdown",
   "metadata": {},
   "source": [
    "<!--Header-->\n",
    "<div>\n",
    "    <div class=\"row\" style=\"color: #4D4D4D;font-size: 15px;padding-bottom: 20px\">\n",
    "        <div class=\"col-md-7\">\n",
    "            <img src=\"http://materials.cv.uoc.edu/cdocent/common/img/logo-uoc.png\" alt=\"Logo UOC\" class=\"img-responsive\" style=\"margin:20px 0px 0px\">\n",
    "        </div>\n",
    "        <div class=\"col-md-5\">\n",
    "            <h1 style=\"margin:15px 0px 0px;font-size: 40px;\">Manipulació de dades amb la llibreria pandas</h1>\n",
    "            <div style=\"text-align:left;margin-top: 5px;\"></div>\n",
    "        </div>\n",
    "    </div>\n",
    "    <div class=\"row\" style=\"background: #FCB517;padding: 10px 20px;\">\n",
    "        <div class=\"col-md-6\">\n",
    "            <div>PID_00233252</div>\n",
    "        </div>\n",
    "        <div class=\"col-md-6\">\n",
    "            <div style=\"text-align:right;\">Autor: Xavier Duran Albareda <span style=\"margin-left: 30px;\">Coordinació: Julià Minguillón</span></div>\n",
    "        </div>\n",
    "    </div>\n",
    "</div>\n",
    "<!--/Header-->"
   ]
  },
  {
   "cell_type": "markdown",
   "metadata": {},
   "source": [
    "# Introducció\n",
    "\n",
    "![Pandas](images/pandas_logo.png)\n",
    "\n",
    "Pandas és un paquet de Python que ens facilita la manipulació i l'anàlisi de dades. Incorpora estructures de dades ràpides i flexibles dissenyades per treballar amb dades relacionals o etiquetades de manera intuitiva.\n",
    "\n",
    "Pandas ens permet treballar amb diferents tipus de dades:\n",
    "\n",
    "- Tabulars amb columnes heterogènies, com ara Excels, CSV o taules SQL\n",
    "- Series temporals, ordenades o no\n",
    "- Matrius\n",
    "- Dades estadístiques i observacionals de tot tipus"
   ]
  },
  {
   "cell_type": "markdown",
   "metadata": {},
   "source": [
    "## Estructures de dades\n",
    "\n",
    "Les dues estructures de dades que ens ofereix _Pandas_ són les __Series__ i el __DataFrame__."
   ]
  },
  {
   "cell_type": "markdown",
   "metadata": {},
   "source": [
    "![Pandas cheat sheet](images/pandas-02.png)"
   ]
  },
  {
   "cell_type": "markdown",
   "metadata": {},
   "source": [
    "### Series\n",
    "\n",
    "Les __Series__ són arrays unidimensionals que poden guardar dades de qualsevol tipus, i tenen un índex."
   ]
  },
  {
   "cell_type": "code",
   "execution_count": 11,
   "metadata": {
    "scrolled": true
   },
   "outputs": [
    {
     "data": {
      "text/plain": [
       "1900    295\n",
       "1910    297\n",
       "1920    299\n",
       "1930    302\n",
       "1940    305\n",
       "1950    309\n",
       "1960    314\n",
       "1970    322\n",
       "1980    335\n",
       "1990    351\n",
       "2000    373\n",
       "2010    403\n",
       "dtype: int64"
      ]
     },
     "execution_count": 11,
     "metadata": {},
     "output_type": "execute_result"
    }
   ],
   "source": [
    "carbon_dioxide_ppm = pd.Series(\n",
    "    [295, 297, 299, 302, 305, 309, 314, 322, 335, 351, 373, 403],\n",
    "    index = [1900, 1910, 1920, 1930, 1940, 1950, 1960, 1970, 1980, 1990, 2000, 2010]\n",
    ")\n",
    "carbon_dioxide_ppm"
   ]
  },
  {
   "cell_type": "markdown",
   "metadata": {},
   "source": [
    "### DataFrame\n",
    "\n",
    "Els  __DataFrame__ són arrays bidimensionals o matrius, indexat per files i per columnes, i que també poden guardar dades de qualsevol tipus. Per exemple, podem crear un DataFrame amb les freqüències dels noms més posats a Catalunya durant el 2016.\n",
    "\n",
    "Font: [Idescat. Noms dels nadons 2016](https://www.idescat.cat/nadons/)"
   ]
  },
  {
   "cell_type": "code",
   "execution_count": 7,
   "metadata": {
    "scrolled": false
   },
   "outputs": [
    {
     "data": {
      "text/html": [
       "<div>\n",
       "<table border=\"1\" class=\"dataframe\">\n",
       "  <thead>\n",
       "    <tr style=\"text-align: right;\">\n",
       "      <th></th>\n",
       "      <th>Noms</th>\n",
       "      <th>Sexe</th>\n",
       "      <th>2016</th>\n",
       "    </tr>\n",
       "  </thead>\n",
       "  <tbody>\n",
       "    <tr>\n",
       "      <th>0</th>\n",
       "      <td>Marc</td>\n",
       "      <td>H</td>\n",
       "      <td>832</td>\n",
       "    </tr>\n",
       "    <tr>\n",
       "      <th>1</th>\n",
       "      <td>Martina</td>\n",
       "      <td>D</td>\n",
       "      <td>702</td>\n",
       "    </tr>\n",
       "    <tr>\n",
       "      <th>2</th>\n",
       "      <td>Àlex/Álex</td>\n",
       "      <td>H</td>\n",
       "      <td>656</td>\n",
       "    </tr>\n",
       "    <tr>\n",
       "      <th>3</th>\n",
       "      <td>Júlia/Julia</td>\n",
       "      <td>D</td>\n",
       "      <td>649</td>\n",
       "    </tr>\n",
       "    <tr>\n",
       "      <th>4</th>\n",
       "      <td>Laia</td>\n",
       "      <td>D</td>\n",
       "      <td>582</td>\n",
       "    </tr>\n",
       "    <tr>\n",
       "      <th>5</th>\n",
       "      <td>Lucía</td>\n",
       "      <td>D</td>\n",
       "      <td>573</td>\n",
       "    </tr>\n",
       "    <tr>\n",
       "      <th>6</th>\n",
       "      <td>Maria/María</td>\n",
       "      <td>D</td>\n",
       "      <td>566</td>\n",
       "    </tr>\n",
       "    <tr>\n",
       "      <th>7</th>\n",
       "      <td>Jan</td>\n",
       "      <td>H</td>\n",
       "      <td>562</td>\n",
       "    </tr>\n",
       "    <tr>\n",
       "      <th>8</th>\n",
       "      <td>Martí</td>\n",
       "      <td>H</td>\n",
       "      <td>557</td>\n",
       "    </tr>\n",
       "    <tr>\n",
       "      <th>9</th>\n",
       "      <td>Hugo</td>\n",
       "      <td>H</td>\n",
       "      <td>553</td>\n",
       "    </tr>\n",
       "  </tbody>\n",
       "</table>\n",
       "</div>"
      ],
      "text/plain": [
       "          Noms Sexe  2016\n",
       "0         Marc    H   832\n",
       "1      Martina    D   702\n",
       "2    Àlex/Álex    H   656\n",
       "3  Júlia/Julia    D   649\n",
       "4         Laia    D   582\n",
       "5        Lucía    D   573\n",
       "6  Maria/María    D   566\n",
       "7          Jan    H   562\n",
       "8        Martí    H   557\n",
       "9         Hugo    H   553"
      ]
     },
     "execution_count": 7,
     "metadata": {},
     "output_type": "execute_result"
    }
   ],
   "source": [
    "import pandas as pd\n",
    "\n",
    "onomastica = {\n",
    "    'Noms': [\n",
    "        'Marc',\n",
    "        'Martina',\n",
    "        'Àlex/Álex',\n",
    "        'Júlia/Julia',\n",
    "        'Laia',\n",
    "        'Lucía',\n",
    "        'Maria/María',\n",
    "        'Jan',\n",
    "        'Martí',\n",
    "        'Hugo'\n",
    "    ],\n",
    "    'Sexe': ['H', 'D', 'H', 'D', 'D', 'D', 'D', 'H', 'H', 'H'],\n",
    "    '2016': [832, 702, 656, 649, 582, 573, 566, 562, 557, 553]\n",
    "}\n",
    "\n",
    "pd.DataFrame(onomastica, columns = ['Noms', 'Sexe', '2016'])"
   ]
  },
  {
   "cell_type": "markdown",
   "metadata": {},
   "source": [
    "<!--Footer-->\n",
    " <div style=\"background: #333333;padding: 35px 0px;margin-top: 25px;\">\n",
    "    <div class=\"row\">\n",
    "     <div class=\"col-sm-12\">\n",
    "        <img src=\"http://materials.cv.uoc.edu/cdocent/common/img/logo-uoc-bottom.png\" alt=\"Logo UOC\" class=\"img-responsive\" style=\"margin: 0 auto; display: block;\">\n",
    "    </div>\n",
    "</div>\n",
    "</div>\n",
    "<!--/Footer-->"
   ]
  }
 ],
 "metadata": {
  "kernelspec": {
   "display_name": "Python 3",
   "language": "python",
   "name": "python3"
  },
  "language_info": {
   "codemirror_mode": {
    "name": "ipython",
    "version": 3
   },
   "file_extension": ".py",
   "mimetype": "text/x-python",
   "name": "python",
   "nbconvert_exporter": "python",
   "pygments_lexer": "ipython3",
   "version": "3.6.4"
  }
 },
 "nbformat": 4,
 "nbformat_minor": 1
}
